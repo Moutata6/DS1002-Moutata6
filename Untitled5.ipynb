{
  "nbformat": 4,
  "nbformat_minor": 0,
  "metadata": {
    "colab": {
      "provenance": [],
      "authorship_tag": "ABX9TyNGsEj1/1Y3kIpL1tOICTGB",
      "include_colab_link": true
    },
    "kernelspec": {
      "name": "python3",
      "display_name": "Python 3"
    },
    "language_info": {
      "name": "python"
    }
  },
  "cells": [
    {
      "cell_type": "markdown",
      "metadata": {
        "id": "view-in-github",
        "colab_type": "text"
      },
      "source": [
        "<a href=\"https://colab.research.google.com/github/Moutata6/DS1002-Moutata6/blob/main/Untitled5.ipynb\" target=\"_parent\"><img src=\"https://colab.research.google.com/assets/colab-badge.svg\" alt=\"Open In Colab\"/></a>"
      ]
    },
    {
      "cell_type": "code",
      "execution_count": 1,
      "metadata": {
        "id": "EujXEHNfy5Ea"
      },
      "outputs": [],
      "source": [
        "import string\n",
        "import random"
      ]
    },
    {
      "cell_type": "code",
      "source": [
        "lc_letters = string.ascii_lowercase\n",
        "\n",
        "uc_letters = string.ascii_uppercase\n",
        "\n",
        "\n",
        "digits = string.digits\n",
        "\n",
        "punc = string.punctuation\n",
        "\n",
        "allchars = lc_letters + uc_letters + digits + punc"
      ],
      "metadata": {
        "id": "q2LHyZo7y_uR"
      },
      "execution_count": 21,
      "outputs": []
    },
    {
      "cell_type": "code",
      "source": [
        "character = random.choice(allchars)\n",
        "print(character)"
      ],
      "metadata": {
        "colab": {
          "base_uri": "https://localhost:8080/"
        },
        "id": "broec4yVzrtD",
        "outputId": "1d529b5d-c020-4c34-cb23-4706f15283cd"
      },
      "execution_count": 18,
      "outputs": [
        {
          "output_type": "stream",
          "name": "stdout",
          "text": [
            "l\n"
          ]
        }
      ]
    },
    {
      "cell_type": "code",
      "source": [
        "passwd = ''\n",
        "\n",
        "for c in range(8):\n",
        "  passwd += random.choice(allchars)\n",
        "  passwd = passwd.replace(\"'\",random.choice(allchars))\n",
        "  passwd = passwd.replace('\"',random.choice(allchars))\n",
        "\n",
        "print(passwd)"
      ],
      "metadata": {
        "colab": {
          "base_uri": "https://localhost:8080/"
        },
        "id": "yufxvHUK0U-5",
        "outputId": "dcdd16a2-b3f4-4102-8fd0-ac2a93e7b67b"
      },
      "execution_count": 39,
      "outputs": [
        {
          "output_type": "stream",
          "name": "stdout",
          "text": [
            "^r`V!(e/\n"
          ]
        }
      ]
    },
    {
      "cell_type": "code",
      "source": [
        "allchars = lc_letters + uc_letters + digits + punc\n",
        "\n",
        "def give_me_a_password(length):\n",
        "  passwd = ''\n",
        "  for c in range(length):\n",
        "    passwd += random.choice(allchars)\n",
        "    passwd = passwd.replace(\"'\",random.choice(allchars))\n",
        "    passwd = passwd.replace('\"',random.choice(allchars))\n",
        "  return(passwd)\n",
        "\n",
        "give_me_a_password(6)"
      ],
      "metadata": {
        "colab": {
          "base_uri": "https://localhost:8080/",
          "height": 35
        },
        "id": "0F7EiueU2gt6",
        "outputId": "f64c416d-384d-46bc-90de-2fa87b811e68"
      },
      "execution_count": 60,
      "outputs": [
        {
          "output_type": "execute_result",
          "data": {
            "text/plain": [
              "'[D-Jm?'"
            ],
            "application/vnd.google.colaboratory.intrinsic+json": {
              "type": "string"
            }
          },
          "metadata": {},
          "execution_count": 60
        }
      ]
    },
    {
      "cell_type": "code",
      "source": [
        "beatles = [\"John\", \"Paul\", \"Ringo\", \"George\"]\n",
        "\n",
        "for b in beatles:\n",
        "  passw = give_me_a_password(6)\n",
        "  print(b + ' ' + passw)"
      ],
      "metadata": {
        "colab": {
          "base_uri": "https://localhost:8080/"
        },
        "id": "tDWWGvnc30io",
        "outputId": "2fea4ffe-a596-4fc8-fd2c-7b35c378865a"
      },
      "execution_count": 70,
      "outputs": [
        {
          "output_type": "stream",
          "name": "stdout",
          "text": [
            "John h8YW{9\n",
            "Paul pt[+%A\n",
            "Ringo .[S%5+\n",
            "George s*<@P@\n"
          ]
        }
      ]
    },
    {
      "cell_type": "markdown",
      "source": [
        "Temperature converter"
      ],
      "metadata": {
        "id": "CfibnlU96XWV"
      }
    },
    {
      "cell_type": "code",
      "source": [
        "def c_to_f(temp):\n",
        "  ftemp = (temp * 1.8) + 32\n",
        "  return ftemp\n",
        "c_to_f(0)"
      ],
      "metadata": {
        "colab": {
          "base_uri": "https://localhost:8080/"
        },
        "id": "slVfY9Ae6Sqk",
        "outputId": "8771d4a1-ce59-4e4d-c4c5-143cbdebe491"
      },
      "execution_count": 77,
      "outputs": [
        {
          "output_type": "execute_result",
          "data": {
            "text/plain": [
              "32.0"
            ]
          },
          "metadata": {},
          "execution_count": 77
        }
      ]
    },
    {
      "cell_type": "code",
      "source": [
        "def f_to_c(temp):\n",
        "  ctemp = (temp - 32)/1.8\n",
        "  return ctemp\n",
        "\n",
        "f_to_c(104)"
      ],
      "metadata": {
        "colab": {
          "base_uri": "https://localhost:8080/"
        },
        "id": "VRZ3iVs97cHS",
        "outputId": "90ca4022-3b3e-48bd-9f1e-d04a8e39b0f0"
      },
      "execution_count": 79,
      "outputs": [
        {
          "output_type": "execute_result",
          "data": {
            "text/plain": [
              "40.0"
            ]
          },
          "metadata": {},
          "execution_count": 79
        }
      ]
    },
    {
      "cell_type": "code",
      "source": [
        "def convert_temp(temp,unit):\n",
        "  if unit == \"C\":\n",
        "    ctemp = (temp - 32)/1.8\n",
        "    return ctemp\n",
        "  elif unit == \"F\":\n",
        "    ftemp = (temp * 1.8) + 32\n",
        "    return ftemp\n",
        "  else:\n",
        "    print(\"you didn't give me C or F\")\n",
        "\n",
        "convert_temp(40,\"C\")"
      ],
      "metadata": {
        "colab": {
          "base_uri": "https://localhost:8080/"
        },
        "id": "72HxteFJ7zSY",
        "outputId": "0f740973-d8aa-4d34-d0cc-fe37568a2b51"
      },
      "execution_count": 83,
      "outputs": [
        {
          "output_type": "execute_result",
          "data": {
            "text/plain": [
              "4.444444444444445"
            ]
          },
          "metadata": {},
          "execution_count": 83
        }
      ]
    }
  ]
}