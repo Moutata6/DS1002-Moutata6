{
  "nbformat": 4,
  "nbformat_minor": 0,
  "metadata": {
    "colab": {
      "provenance": [],
      "authorship_tag": "ABX9TyM73tEpIEar1MDmhhei0OUs",
      "include_colab_link": true
    },
    "kernelspec": {
      "name": "python3",
      "display_name": "Python 3"
    },
    "language_info": {
      "name": "python"
    }
  },
  "cells": [
    {
      "cell_type": "markdown",
      "metadata": {
        "id": "view-in-github",
        "colab_type": "text"
      },
      "source": [
        "<a href=\"https://colab.research.google.com/github/Moutata6/DS1002-Moutata6/blob/main/class_10_27.ipynb\" target=\"_parent\"><img src=\"https://colab.research.google.com/assets/colab-badge.svg\" alt=\"Open In Colab\"/></a>"
      ]
    },
    {
      "cell_type": "code",
      "execution_count": 2,
      "metadata": {
        "colab": {
          "base_uri": "https://localhost:8080/"
        },
        "id": "0WcqTK64dS6Z",
        "outputId": "55300b79-aab9-4f9c-8308-9a9cb679debe"
      },
      "outputs": [
        {
          "output_type": "stream",
          "name": "stdout",
          "text": [
            "The name of this band is Talking Heads and it has 4 members\n",
            "The name of this band is Talking Heads and it has 4 members\n"
          ]
        }
      ],
      "source": [
        "band = \"Talking Heads\"\n",
        "member_count = 4\n",
        "\n",
        "print(f\"The name of this band is {band} and it has {member_count} members\")\n",
        "print(\"The name of this band is\",band,\"and it has\",member_count,\"members\")"
      ]
    },
    {
      "cell_type": "code",
      "source": [
        "#classes\n",
        "\n",
        "class Records:\n",
        "  var1 = \"Rockets\"\n",
        "  var2 = \"Bananas\""
      ],
      "metadata": {
        "id": "zpocfTwDetRA"
      },
      "execution_count": 3,
      "outputs": []
    },
    {
      "cell_type": "code",
      "source": [
        "Records.var1"
      ],
      "metadata": {
        "colab": {
          "base_uri": "https://localhost:8080/",
          "height": 35
        },
        "id": "s5ba6LIcgnY2",
        "outputId": "0d4bdc33-6a36-4a1e-f1b0-1baed1b037f7"
      },
      "execution_count": 4,
      "outputs": [
        {
          "output_type": "execute_result",
          "data": {
            "text/plain": [
              "'Rockets'"
            ],
            "application/vnd.google.colaboratory.intrinsic+json": {
              "type": "string"
            }
          },
          "metadata": {},
          "execution_count": 4
        }
      ]
    },
    {
      "cell_type": "code",
      "source": [
        "record1 = Records()"
      ],
      "metadata": {
        "id": "qcbu9Tx-kat5"
      },
      "execution_count": 7,
      "outputs": []
    },
    {
      "cell_type": "code",
      "source": [
        "record1.var1 = \"Mopeds\""
      ],
      "metadata": {
        "id": "vLnSUzhtkfBU"
      },
      "execution_count": 8,
      "outputs": []
    },
    {
      "cell_type": "code",
      "source": [
        "Records.var1"
      ],
      "metadata": {
        "colab": {
          "base_uri": "https://localhost:8080/",
          "height": 35
        },
        "id": "l0Phz4IXkkr5",
        "outputId": "444c523e-4c7e-4eb3-aaf6-37f1be4e2e60"
      },
      "execution_count": 9,
      "outputs": [
        {
          "output_type": "execute_result",
          "data": {
            "text/plain": [
              "'Rockets'"
            ],
            "application/vnd.google.colaboratory.intrinsic+json": {
              "type": "string"
            }
          },
          "metadata": {},
          "execution_count": 9
        }
      ]
    },
    {
      "cell_type": "code",
      "source": [
        "record1.var1"
      ],
      "metadata": {
        "colab": {
          "base_uri": "https://localhost:8080/",
          "height": 35
        },
        "id": "pU6V5pZwkmCZ",
        "outputId": "36eaff85-ebfd-4800-ec55-bb55492ae9ad"
      },
      "execution_count": 10,
      "outputs": [
        {
          "output_type": "execute_result",
          "data": {
            "text/plain": [
              "'Mopeds'"
            ],
            "application/vnd.google.colaboratory.intrinsic+json": {
              "type": "string"
            }
          },
          "metadata": {},
          "execution_count": 10
        }
      ]
    }
  ]
}