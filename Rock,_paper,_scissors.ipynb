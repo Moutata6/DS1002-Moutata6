{
  "nbformat": 4,
  "nbformat_minor": 0,
  "metadata": {
    "colab": {
      "provenance": [],
      "authorship_tag": "ABX9TyMNOuJTk6k2YUlHTc7N1kvu",
      "include_colab_link": true
    },
    "kernelspec": {
      "name": "python3",
      "display_name": "Python 3"
    },
    "language_info": {
      "name": "python"
    }
  },
  "cells": [
    {
      "cell_type": "markdown",
      "metadata": {
        "id": "view-in-github",
        "colab_type": "text"
      },
      "source": [
        "<a href=\"https://colab.research.google.com/github/Moutata6/DS1002-Moutata6/blob/main/Rock%2C_paper%2C_scissors.ipynb\" target=\"_parent\"><img src=\"https://colab.research.google.com/assets/colab-badge.svg\" alt=\"Open In Colab\"/></a>"
      ]
    },
    {
      "cell_type": "code",
      "execution_count": 16,
      "metadata": {
        "colab": {
          "base_uri": "https://localhost:8080/"
        },
        "id": "DI7iuo8Pd-c0",
        "outputId": "606466dd-b596-40c5-e393-844e0e55822d"
      },
      "outputs": [
        {
          "output_type": "stream",
          "name": "stdout",
          "text": [
            "Rock, Paper, Scissors?Scissors\n",
            "You guessed Scissors and the computer guessed Scissors\n",
            "We have a tie\n"
          ]
        }
      ],
      "source": [
        "from random import randint\n",
        "\n",
        "t = [\"Rock\", \"Paper\", \"Scissors\"]\n",
        "\n",
        "computer = t[randint(0,2)]\n",
        "\n",
        "player = input(\"Rock, Paper, Scissors?\")\n",
        "\n",
        "print(f\"You guessed {player} and the computer guessed {computer}\")\n",
        "if player == computer:\n",
        "  print(\"We have a tie\")\n",
        "elif player == \"Rock\":\n",
        "  if computer == \"Scissors\":\n",
        "    print(\"You win!\")\n",
        "  elif computer == \"Paper\":\n",
        "    print(\"Computer wins\")\n",
        "elif player == \"Paper\":\n",
        "  if computer == \"Rock\":\n",
        "    print(\"You win!\")\n",
        "  elif computer == \"Scissors\":\n",
        "    print(\"Computer wins\")\n",
        "elif player == \"Scissors\":\n",
        "  if computer == \"Paper\":\n",
        "    print(\"You win!\")\n",
        "  elif computer == \"Rock\":\n",
        "    print(\"Computer wins\")\n",
        "else:\n",
        "  print(\"Something went wrong\")"
      ]
    }
  ]
}