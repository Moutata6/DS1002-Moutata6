{
  "nbformat": 4,
  "nbformat_minor": 0,
  "metadata": {
    "colab": {
      "provenance": [],
      "authorship_tag": "ABX9TyNqhKHD/X/MEVKfffyDsVk/",
      "include_colab_link": true
    },
    "kernelspec": {
      "name": "python3",
      "display_name": "Python 3"
    },
    "language_info": {
      "name": "python"
    }
  },
  "cells": [
    {
      "cell_type": "markdown",
      "metadata": {
        "id": "view-in-github",
        "colab_type": "text"
      },
      "source": [
        "<a href=\"https://colab.research.google.com/github/Moutata6/DS1002-Moutata6/blob/main/Global_vs_Private_Vars_%2B_Validating_input.ipynb\" target=\"_parent\"><img src=\"https://colab.research.google.com/assets/colab-badge.svg\" alt=\"Open In Colab\"/></a>"
      ]
    },
    {
      "cell_type": "code",
      "execution_count": 6,
      "metadata": {
        "colab": {
          "base_uri": "https://localhost:8080/"
        },
        "id": "glhgEiLyZNgz",
        "outputId": "0b02f2b7-7bd9-4feb-ef94-108a04a5dd83"
      },
      "outputs": [
        {
          "output_type": "stream",
          "name": "stdout",
          "text": [
            "17\n"
          ]
        }
      ],
      "source": [
        "x = 17\n",
        "\n",
        "print(x)"
      ]
    },
    {
      "cell_type": "code",
      "source": [
        "def call_x():\n",
        "  print(x)"
      ],
      "metadata": {
        "id": "UV4v0rIPZg0E"
      },
      "execution_count": 7,
      "outputs": []
    },
    {
      "cell_type": "code",
      "source": [
        "call_x"
      ],
      "metadata": {
        "colab": {
          "base_uri": "https://localhost:8080/"
        },
        "id": "cVBNMAcTZaQV",
        "outputId": "e9a4b6f7-7d2f-4590-bbad-eda72846857c"
      },
      "execution_count": 8,
      "outputs": [
        {
          "output_type": "execute_result",
          "data": {
            "text/plain": [
              "<function __main__.call_x()>"
            ]
          },
          "metadata": {},
          "execution_count": 8
        }
      ]
    },
    {
      "cell_type": "code",
      "source": [
        "def private_var():\n",
        "  xx = \"charlottesville\"\n",
        "  print(xx)\n",
        "private_var()\n"
      ],
      "metadata": {
        "colab": {
          "base_uri": "https://localhost:8080/"
        },
        "id": "8z3L8SeDZifV",
        "outputId": "4441c05b-1859-4421-efbb-ca0471544176"
      },
      "execution_count": 9,
      "outputs": [
        {
          "output_type": "stream",
          "name": "stdout",
          "text": [
            "charlottesville\n"
          ]
        }
      ]
    },
    {
      "cell_type": "code",
      "source": [
        "def create_a_global_var():\n",
        "  global zz\n",
        "  zz = \"top\"\n",
        "  print(zz)"
      ],
      "metadata": {
        "id": "8Q-b3p0bZ9ez"
      },
      "execution_count": 10,
      "outputs": []
    },
    {
      "cell_type": "code",
      "source": [
        "create_a_global_var()"
      ],
      "metadata": {
        "colab": {
          "base_uri": "https://localhost:8080/"
        },
        "id": "mu64kgGmaMcx",
        "outputId": "88599d62-ad1b-4366-bb4e-0bfee2417272"
      },
      "execution_count": 11,
      "outputs": [
        {
          "output_type": "stream",
          "name": "stdout",
          "text": [
            "top\n"
          ]
        }
      ]
    },
    {
      "cell_type": "code",
      "source": [
        "print(zz)"
      ],
      "metadata": {
        "colab": {
          "base_uri": "https://localhost:8080/"
        },
        "id": "KgTlV0F_aSEh",
        "outputId": "a92b0b26-b65c-4947-a5b9-8d8e9f1b52e2"
      },
      "execution_count": 12,
      "outputs": [
        {
          "output_type": "stream",
          "name": "stdout",
          "text": [
            "top\n"
          ]
        }
      ]
    },
    {
      "cell_type": "code",
      "source": [
        "mm = 17\n",
        "\n",
        "def up_the_global():\n",
        "  global mm\n",
        "  mm = 14\n",
        "  print(mm)"
      ],
      "metadata": {
        "id": "N8-DYUmHaqC9"
      },
      "execution_count": 17,
      "outputs": []
    },
    {
      "cell_type": "code",
      "source": [
        "up_the_global()"
      ],
      "metadata": {
        "colab": {
          "base_uri": "https://localhost:8080/"
        },
        "id": "5NPhg8NVayv9",
        "outputId": "e7784853-51e0-49d7-c780-56843c312626"
      },
      "execution_count": 18,
      "outputs": [
        {
          "output_type": "stream",
          "name": "stdout",
          "text": [
            "14\n"
          ]
        }
      ]
    },
    {
      "cell_type": "code",
      "source": [
        "print(mm)"
      ],
      "metadata": {
        "colab": {
          "base_uri": "https://localhost:8080/"
        },
        "id": "yy5o6tuXa2xr",
        "outputId": "675b35c0-472a-45c9-ef26-97a6bdbf6c61"
      },
      "execution_count": 19,
      "outputs": [
        {
          "output_type": "stream",
          "name": "stdout",
          "text": [
            "14\n"
          ]
        }
      ]
    },
    {
      "cell_type": "code",
      "source": [
        "#Validating Inputs"
      ],
      "metadata": {
        "id": "4IhXgfqzcg02"
      },
      "execution_count": null,
      "outputs": []
    },
    {
      "cell_type": "code",
      "source": [
        "var1 = 3\n",
        "var2 = 7\n",
        "\n",
        "def add_these_things(var1, var2):\n",
        "  return var1 + var2\n",
        "\n",
        "add_these_things(var1,var2)"
      ],
      "metadata": {
        "colab": {
          "base_uri": "https://localhost:8080/"
        },
        "id": "CuTWCMzwcmVe",
        "outputId": "06227d24-565b-4044-9136-4df243e6e87f"
      },
      "execution_count": 20,
      "outputs": [
        {
          "output_type": "execute_result",
          "data": {
            "text/plain": [
              "10"
            ]
          },
          "metadata": {},
          "execution_count": 20
        }
      ]
    },
    {
      "cell_type": "code",
      "source": [
        "def add_numbers(var3: int,var4: int) -> int:\n",
        "  return var3 + var4"
      ],
      "metadata": {
        "id": "hzxeMUkKddNQ"
      },
      "execution_count": 21,
      "outputs": []
    },
    {
      "cell_type": "code",
      "source": [
        "var3 = 10\n",
        "add_numbers(var3,3)"
      ],
      "metadata": {
        "colab": {
          "base_uri": "https://localhost:8080/"
        },
        "id": "X85cQFLAd1Y2",
        "outputId": "f38f56f5-0234-4188-a9f3-5bb23402b246"
      },
      "execution_count": 23,
      "outputs": [
        {
          "output_type": "execute_result",
          "data": {
            "text/plain": [
              "13"
            ]
          },
          "metadata": {},
          "execution_count": 23
        }
      ]
    },
    {
      "cell_type": "code",
      "source": [
        "add_numbers.__annotations__"
      ],
      "metadata": {
        "colab": {
          "base_uri": "https://localhost:8080/"
        },
        "id": "xzJHma4VePsH",
        "outputId": "f880e61a-b789-4789-f74f-8d99741ef6d6"
      },
      "execution_count": 24,
      "outputs": [
        {
          "output_type": "execute_result",
          "data": {
            "text/plain": [
              "{'var3': int, 'var4': int, 'return': int}"
            ]
          },
          "metadata": {},
          "execution_count": 24
        }
      ]
    },
    {
      "cell_type": "code",
      "source": [
        "def add_numbers(var3: int,var4: int) -> int:\n",
        "  if (type(var3) == int) and (type(var4) == int):\n",
        "    return var3 + var4\n",
        "  else:\n",
        "    print(\"you need two integers to use this function\")\n",
        "\n",
        "add_numbers(3,7)\n",
        "add_numbers(3,'poop')"
      ],
      "metadata": {
        "colab": {
          "base_uri": "https://localhost:8080/"
        },
        "id": "nRpbIGAyfHAN",
        "outputId": "8e39bd63-3fe0-4d38-c6a1-dcdac1514fe9"
      },
      "execution_count": 30,
      "outputs": [
        {
          "output_type": "stream",
          "name": "stdout",
          "text": [
            "you need two integers to use this function\n"
          ]
        }
      ]
    },
    {
      "cell_type": "code",
      "source": [],
      "metadata": {
        "id": "5HPdczgSf0KN"
      },
      "execution_count": null,
      "outputs": []
    }
  ]
}