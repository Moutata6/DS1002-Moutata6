{
  "nbformat": 4,
  "nbformat_minor": 0,
  "metadata": {
    "colab": {
      "provenance": [],
      "authorship_tag": "ABX9TyN+bJ2N3yr6LHd8YFkdQrQ2",
      "include_colab_link": true
    },
    "kernelspec": {
      "name": "python3",
      "display_name": "Python 3"
    },
    "language_info": {
      "name": "python"
    }
  },
  "cells": [
    {
      "cell_type": "markdown",
      "metadata": {
        "id": "view-in-github",
        "colab_type": "text"
      },
      "source": [
        "<a href=\"https://colab.research.google.com/github/Moutata6/DS1002-Moutata6/blob/main/nov_1_2023.ipynb\" target=\"_parent\"><img src=\"https://colab.research.google.com/assets/colab-badge.svg\" alt=\"Open In Colab\"/></a>"
      ]
    },
    {
      "cell_type": "code",
      "execution_count": 1,
      "metadata": {
        "id": "psMjJRvhQuSH"
      },
      "outputs": [],
      "source": [
        "def fetch(obj, index):\n",
        "  return obj[index]"
      ]
    },
    {
      "cell_type": "code",
      "source": [
        "fetch(\"moon\",3)"
      ],
      "metadata": {
        "colab": {
          "base_uri": "https://localhost:8080/",
          "height": 35
        },
        "id": "56eTqMG2Q6NS",
        "outputId": "e139da42-7140-4915-a498-0f49b6200635"
      },
      "execution_count": 2,
      "outputs": [
        {
          "output_type": "execute_result",
          "data": {
            "text/plain": [
              "'n'"
            ],
            "application/vnd.google.colaboratory.intrinsic+json": {
              "type": "string"
            }
          },
          "metadata": {},
          "execution_count": 2
        }
      ]
    },
    {
      "cell_type": "code",
      "source": [
        "def fetch(obj, index):\n",
        "  try:\n",
        "    return obj[index]\n",
        "  except Exception as e:\n",
        "    print(f\"Exception caught: {e}\")"
      ],
      "metadata": {
        "id": "I8W2wj67RBLe"
      },
      "execution_count": 3,
      "outputs": []
    },
    {
      "cell_type": "code",
      "source": [
        "fetch(\"moon\", 4)"
      ],
      "metadata": {
        "colab": {
          "base_uri": "https://localhost:8080/"
        },
        "id": "Gn6eyis2Rm0j",
        "outputId": "a03296ef-34e0-4359-c612-49a6442bfea5"
      },
      "execution_count": 4,
      "outputs": [
        {
          "output_type": "stream",
          "name": "stdout",
          "text": [
            "Exception caught: string index out of range\n"
          ]
        }
      ]
    },
    {
      "cell_type": "code",
      "source": [
        "try:\n",
        "  f = open('myfile.txt')\n",
        "  s = f.readline()\n",
        "  i = int(s.strip())\n",
        "\n",
        "except IOError as e:\n",
        "  print(f'Exception caught: {e}')"
      ],
      "metadata": {
        "colab": {
          "base_uri": "https://localhost:8080/"
        },
        "id": "qnHJczbYSATH",
        "outputId": "71166acf-4952-493a-d0d8-4fd5675c0889"
      },
      "execution_count": 5,
      "outputs": [
        {
          "output_type": "stream",
          "name": "stdout",
          "text": [
            "Exception caught: [Errno 2] No such file or directory: 'myfile.txt'\n"
          ]
        }
      ]
    },
    {
      "cell_type": "code",
      "source": [
        "def foolme():\n",
        "  try:\n",
        "    raise IndexError(\"blah blah\")\n",
        "  except Exception as e:\n",
        "    print(f'An exception has been thrown: {e}')\n",
        "  else:\n",
        "    print('Else has happened')\n",
        "  finally:\n",
        "    print('finally has happened')\n",
        "\n",
        "foolme()"
      ],
      "metadata": {
        "colab": {
          "base_uri": "https://localhost:8080/"
        },
        "id": "URwwoz2OVI4P",
        "outputId": "192ba337-79c3-4c61-f9ba-9040ac2f5322"
      },
      "execution_count": 8,
      "outputs": [
        {
          "output_type": "stream",
          "name": "stdout",
          "text": [
            "An exception has been thrown: blah blah\n",
            "finally has happened\n"
          ]
        }
      ]
    }
  ]
}