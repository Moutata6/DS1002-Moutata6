{
  "nbformat": 4,
  "nbformat_minor": 0,
  "metadata": {
    "colab": {
      "provenance": [],
      "include_colab_link": true
    },
    "kernelspec": {
      "name": "python3",
      "display_name": "Python 3"
    },
    "language_info": {
      "name": "python"
    }
  },
  "cells": [
    {
      "cell_type": "markdown",
      "metadata": {
        "id": "view-in-github",
        "colab_type": "text"
      },
      "source": [
        "<a href=\"https://colab.research.google.com/github/Moutata6/DS1002-Moutata6/blob/main/homework/week-4.ipynb\" target=\"_parent\"><img src=\"https://colab.research.google.com/assets/colab-badge.svg\" alt=\"Open In Colab\"/></a>"
      ]
    },
    {
      "cell_type": "markdown",
      "source": [
        "# Homework - Week 4\n",
        "\n",
        "Complete the following blocks as specified in the directions. Run each cell to return the desired output. Save your notebook back to your GitHub repository and submit the GitHub URL for your notebook for review."
      ],
      "metadata": {
        "id": "xJ6ZWHKXW4qY"
      }
    },
    {
      "cell_type": "markdown",
      "source": [
        "## 1. Data Types\n",
        "\n",
        "```python\n",
        "s = \"Fox\"\n",
        "x = 17\n",
        "y = \"3\"\n",
        "z = \"false\"\n",
        "```\n",
        "\n",
        "Using the variables above answer these questions:"
      ],
      "metadata": {
        "id": "atxtPF2-XXiW"
      }
    },
    {
      "cell_type": "code",
      "execution_count": 1,
      "metadata": {
        "id": "mdX0VBQgW1-9",
        "outputId": "8a7829ce-8205-4058-9f5b-3dad17225876",
        "colab": {
          "base_uri": "https://localhost:8080/"
        }
      },
      "outputs": [
        {
          "output_type": "execute_result",
          "data": {
            "text/plain": [
              "str"
            ]
          },
          "metadata": {},
          "execution_count": 1
        }
      ],
      "source": [
        "# Write a snippet of code that displays the data type (class) of `s`\n",
        "string = \"movie\"\n",
        "type(string)"
      ]
    },
    {
      "cell_type": "code",
      "source": [
        "# Write a snippet of code that adds `x` and `y` and displays their sum.\n",
        "x = 17\n",
        "y = 3\n",
        "x + y"
      ],
      "metadata": {
        "id": "OoLP555BbMWi",
        "outputId": "35d7a764-3bd3-49f4-d366-8c8b527ae829",
        "colab": {
          "base_uri": "https://localhost:8080/"
        }
      },
      "execution_count": 3,
      "outputs": [
        {
          "output_type": "execute_result",
          "data": {
            "text/plain": [
              "20"
            ]
          },
          "metadata": {},
          "execution_count": 3
        }
      ]
    },
    {
      "cell_type": "code",
      "source": [
        "# How might you transform z into a boolean value, if you had to? Be creative.\n",
        "z = \"false\"\n",
        "print(bool(z))"
      ],
      "metadata": {
        "id": "--XDmwVsbMC0",
        "outputId": "8e4e06de-7316-4752-9693-15380b5dc645",
        "colab": {
          "base_uri": "https://localhost:8080/"
        }
      },
      "execution_count": 1,
      "outputs": [
        {
          "output_type": "stream",
          "name": "stdout",
          "text": [
            "True\n"
          ]
        }
      ]
    },
    {
      "cell_type": "markdown",
      "source": [
        "- - -"
      ],
      "metadata": {
        "id": "zPvfX62VbK40"
      }
    },
    {
      "cell_type": "markdown",
      "source": [
        "## 2. Lists\n",
        "\n",
        "    mylist = [\"Chicago\",\"New Orleans\", \"Tempe\", \"Denver\", \"Nashville\", \"Albany\"]\n",
        "\n",
        "Using the list above, answer these questions:"
      ],
      "metadata": {
        "id": "j0mCENI3XK2i"
      }
    },
    {
      "cell_type": "code",
      "source": [
        "# Write a snippet of code that prints out \"Tempe\"\n",
        "w = [\"Chicago\",\"New Orleans\", \"Tempe\", \"Denver\", \"Nashville\", \"Albany\"]\n",
        "print(w[2])"
      ],
      "metadata": {
        "id": "2szfLXZcYC_7",
        "outputId": "395bb5b1-a924-4fcc-f53d-669b317d7abc",
        "colab": {
          "base_uri": "https://localhost:8080/"
        }
      },
      "execution_count": 12,
      "outputs": [
        {
          "output_type": "stream",
          "name": "stdout",
          "text": [
            "Tempe\n"
          ]
        }
      ]
    },
    {
      "cell_type": "code",
      "source": [
        "# Write a snippet of code that adds \"Atlanta\" to this list and displays the extended list.\n",
        "w.append(\"Atlanta\")\n",
        "print(w)"
      ],
      "metadata": {
        "id": "P6IeQYoTdMhh",
        "outputId": "343f0e80-8d92-41c5-b965-dc8acf6441d6",
        "colab": {
          "base_uri": "https://localhost:8080/"
        }
      },
      "execution_count": 13,
      "outputs": [
        {
          "output_type": "stream",
          "name": "stdout",
          "text": [
            "['Chicago', 'New Orleans', 'Tempe', 'Denver', 'Nashville', 'Albany', 'Atlanta']\n"
          ]
        }
      ]
    },
    {
      "cell_type": "code",
      "source": [
        "# Write a snippet of code that prints out only \"New Orleans\", \"Tempe\", \"Denver\".\n",
        "print(w[1:4])"
      ],
      "metadata": {
        "id": "t43LdDkhdM2N",
        "outputId": "a592c23f-bae2-459e-c453-bc93eddfbc43",
        "colab": {
          "base_uri": "https://localhost:8080/"
        }
      },
      "execution_count": 23,
      "outputs": [
        {
          "output_type": "stream",
          "name": "stdout",
          "text": [
            "['New Orleans', 'Tempe', 'Denver']\n"
          ]
        }
      ]
    },
    {
      "cell_type": "markdown",
      "source": [
        "- - -"
      ],
      "metadata": {
        "id": "ATrOT4dYbIVH"
      }
    },
    {
      "cell_type": "markdown",
      "source": [
        "# 3. Dictionaries\n",
        "\n",
        "    mydict = {\"VA\":\"Richmond\", \"NC\":\"Raleigh\", \"NJ\":\"Trenton\", \"PA\":\"Harrisburg\", \"NY\":\"Albany\"}\n",
        "\n",
        "Answer the following questions:"
      ],
      "metadata": {
        "id": "GeXcT_9sYEdx"
      }
    },
    {
      "cell_type": "code",
      "source": [
        "# Write a snippet of code that returns \"Trenton\".\n",
        "mydict = {\"VA\":\"Richmond\", \"NC\":\"Raleigh\", \"NJ\":\"Trenton\", \"PA\":\"Harrisburg\", \"NY\":\"Albany\"}\n",
        "print(mydict[\"NJ\"])"
      ],
      "metadata": {
        "id": "v3fvvKP4ZUvJ",
        "outputId": "6e423ffc-096f-4ceb-9951-a6e548d049ba",
        "colab": {
          "base_uri": "https://localhost:8080/"
        }
      },
      "execution_count": 34,
      "outputs": [
        {
          "output_type": "stream",
          "name": "stdout",
          "text": [
            "Trenton\n"
          ]
        }
      ]
    },
    {
      "cell_type": "code",
      "source": [
        "# Write a snippet of code that adds \"CO\":\"Denver\" to `mydict`.\n",
        "# Remember the built-in .update({'key': 'value'}) method.\n",
        "mydict.update({\"CO\":\"Denver\"})\n",
        "print(mydict)"
      ],
      "metadata": {
        "id": "OEwUkIDNa90b",
        "outputId": "c9645697-4ac4-4c2a-9ba3-2a40636ed3cf",
        "colab": {
          "base_uri": "https://localhost:8080/"
        }
      },
      "execution_count": 42,
      "outputs": [
        {
          "output_type": "stream",
          "name": "stdout",
          "text": [
            "{'VA': 'Richmond', 'NC': 'Raleigh', 'NJ': 'Trenton', 'PA': 'Harrisburg', 'NY': 'Albany', 'CO': 'Denver'}\n"
          ]
        }
      ]
    },
    {
      "cell_type": "code",
      "source": [
        "# Write a snippet of code that returns all the keys in `mydict\n",
        "mydict.keys(0:6)"
      ],
      "metadata": {
        "id": "VwoLtOILbF2K",
        "outputId": "b99e4ac4-397c-432d-d8c1-9be1b6191b28",
        "colab": {
          "base_uri": "https://localhost:8080/",
          "height": 197
        }
      },
      "execution_count": 69,
      "outputs": [
        {
          "output_type": "error",
          "ename": "TypeError",
          "evalue": "ignored",
          "traceback": [
            "\u001b[0;31m---------------------------------------------------------------------------\u001b[0m",
            "\u001b[0;31mTypeError\u001b[0m                                 Traceback (most recent call last)",
            "\u001b[0;32m<ipython-input-69-3e7a02437d6e>\u001b[0m in \u001b[0;36m<cell line: 2>\u001b[0;34m()\u001b[0m\n\u001b[1;32m      1\u001b[0m \u001b[0;31m# Write a snippet of code that returns all the keys in `mydict\u001b[0m\u001b[0;34m\u001b[0m\u001b[0;34m\u001b[0m\u001b[0m\n\u001b[0;32m----> 2\u001b[0;31m \u001b[0mmydict\u001b[0m\u001b[0;34m.\u001b[0m\u001b[0mkeys\u001b[0m\u001b[0;34m(\u001b[0m\u001b[0;36m5\u001b[0m\u001b[0;34m)\u001b[0m\u001b[0;34m\u001b[0m\u001b[0;34m\u001b[0m\u001b[0m\n\u001b[0m",
            "\u001b[0;31mTypeError\u001b[0m: dict.keys() takes no arguments (1 given)"
          ]
        }
      ]
    },
    {
      "cell_type": "markdown",
      "source": [
        "- - -"
      ],
      "metadata": {
        "id": "svpBBTSYa5Dh"
      }
    },
    {
      "cell_type": "markdown",
      "source": [
        "# 4. NumPy Arrays\n",
        "\n",
        "Create an `ndarray` that contains the following values and assign the array to a variable.\n",
        "\n",
        "    2, 3, 5, 7, 11, 13, 17, 19, 23, 29, 31, 37\n",
        "\n",
        "Using that variable, answer the following questions:"
      ],
      "metadata": {
        "id": "DkVtHJBoYW34"
      }
    },
    {
      "cell_type": "code",
      "source": [
        "# Write a snippet of code that prints the data type of the elements in the array.\n",
        "ndarray = 2, 3, 5, 7, 11, 13, 17, 19, 23, 29, 31, 37\n",
        "type(ndarray)"
      ],
      "metadata": {
        "id": "db5UdbrVZSiJ",
        "outputId": "4b39b070-957b-45c4-af52-32732c26d242",
        "colab": {
          "base_uri": "https://localhost:8080/"
        }
      },
      "execution_count": 52,
      "outputs": [
        {
          "output_type": "execute_result",
          "data": {
            "text/plain": [
              "tuple"
            ]
          },
          "metadata": {},
          "execution_count": 52
        }
      ]
    },
    {
      "cell_type": "code",
      "source": [
        "# Write a snippet of code that displays `11` from the array.\n",
        "print(ndarray[4])"
      ],
      "metadata": {
        "id": "8je9wRG9aoWb",
        "outputId": "d52dc501-eb84-4e51-aced-fe4f956eb71c",
        "colab": {
          "base_uri": "https://localhost:8080/"
        }
      },
      "execution_count": 56,
      "outputs": [
        {
          "output_type": "stream",
          "name": "stdout",
          "text": [
            "11\n"
          ]
        }
      ]
    },
    {
      "cell_type": "code",
      "source": [
        "# Write a snippet of code that multiplies each array element by `7` and displays the new values.\n",
        "ndarray = 2 * 7, 3 * 7, 5 * 7, 7 * 7, 11 * 7, 13 * 7, 17 * 7, 19 * 7, 23 * 7, 29 * 7, 31 * 7, 37 * 7\n",
        "ndarray"
      ],
      "metadata": {
        "id": "GBT5RzQfaovb",
        "outputId": "4899aedb-3b24-409d-d610-8185eff4603d",
        "colab": {
          "base_uri": "https://localhost:8080/"
        }
      },
      "execution_count": 74,
      "outputs": [
        {
          "output_type": "execute_result",
          "data": {
            "text/plain": [
              "(14, 21, 35, 49, 77, 91, 119, 133, 161, 203, 217, 259)"
            ]
          },
          "metadata": {},
          "execution_count": 74
        }
      ]
    }
  ]
}