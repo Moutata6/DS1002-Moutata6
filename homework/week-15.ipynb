{
  "nbformat": 4,
  "nbformat_minor": 0,
  "metadata": {
    "colab": {
      "provenance": [],
      "include_colab_link": true
    },
    "kernelspec": {
      "name": "ir",
      "display_name": "R"
    },
    "language_info": {
      "name": "R"
    }
  },
  "cells": [
    {
      "cell_type": "markdown",
      "metadata": {
        "id": "view-in-github",
        "colab_type": "text"
      },
      "source": [
        "<a href=\"https://colab.research.google.com/github/Moutata6/DS1002-Moutata6/blob/main/homework/week-15.ipynb\" target=\"_parent\"><img src=\"https://colab.research.google.com/assets/colab-badge.svg\" alt=\"Open In Colab\"/></a>"
      ]
    },
    {
      "cell_type": "markdown",
      "source": [
        "# Homework - Week 15\n",
        "\n",
        "Complete the following blocks as specified in the directions. Run each cell to return the desired output. Save your notebook back to your GitHub repository and submit the GitHub URL to your notebook for review."
      ],
      "metadata": {
        "id": "sZruw3XQogej"
      }
    },
    {
      "cell_type": "markdown",
      "source": [
        "## 1. Create Functions (4 pts)\n",
        "\n",
        "Create two functions in the cells below, according to the prompts given."
      ],
      "metadata": {
        "id": "lkaofBQypx1X"
      }
    },
    {
      "cell_type": "code",
      "source": [
        "# create a function in R that:\n",
        "#   1. takes a single integer as an input parameter\n",
        "#   2. determines whether the integer is even or odd\n",
        "#   3. returns a character statement \"The integer <x> is even\" or \"The integer <x> is odd\" (replace <x> with the actual input provided)\n",
        "#\n",
        "# then execute the function twice using two different input values, displaying even and odd results.\n",
        "\n",
        "even_or_odd <- function(x) {\n",
        "  if (x %% 2 == 0) {\n",
        "    return(paste(\"The integer\", x, \"is even\"))\n",
        "  } else {\n",
        "    return(paste(\"The integer\", x, \"is odd\"))\n",
        "  }\n",
        "}\n",
        "\n",
        "even_or_odd(8)\n",
        "even_or_odd(23)"
      ],
      "metadata": {
        "id": "1fjq5bkEp6Zv",
        "outputId": "e41073cf-ec06-4d41-dbec-548ce2083550",
        "colab": {
          "base_uri": "https://localhost:8080/",
          "height": 52
        }
      },
      "execution_count": 3,
      "outputs": [
        {
          "output_type": "display_data",
          "data": {
            "text/html": [
              "'The integer 8 is even'"
            ],
            "text/markdown": "'The integer 8 is even'",
            "text/latex": "'The integer 8 is even'",
            "text/plain": [
              "[1] \"The integer 8 is even\""
            ]
          },
          "metadata": {}
        },
        {
          "output_type": "display_data",
          "data": {
            "text/html": [
              "'The integer 23 is odd'"
            ],
            "text/markdown": "'The integer 23 is odd'",
            "text/latex": "'The integer 23 is odd'",
            "text/plain": [
              "[1] \"The integer 23 is odd\""
            ]
          },
          "metadata": {}
        }
      ]
    },
    {
      "cell_type": "code",
      "source": [
        "# create a function in R that:\n",
        "#   1. takes 4 integer input parameters\n",
        "#   2. returns the mean value of the inputs\n",
        "#   3. has default values for the 4 input parameters, in case they are not provided when the function is called.\n",
        "#\n",
        "# then execute the function twice: once where you provide the input values, and once where you do not.\n",
        "\n",
        "mean_value <- function(x = 1,y = 2,z = 3,w = 4) {\n",
        "  m <- ((x + y + z + w)/4)\n",
        "  return(paste(\"The average of\", x, y, z,\"and\", w, \"is\", m))\n",
        "}\n",
        "\n",
        "mean_value()\n",
        "mean_value(7,35,42,8)\n"
      ],
      "metadata": {
        "id": "f3IFD-T6p6Rd",
        "outputId": "901e4d6b-213a-4c5e-9c11-111cae9a5474",
        "colab": {
          "base_uri": "https://localhost:8080/",
          "height": 52
        }
      },
      "execution_count": 9,
      "outputs": [
        {
          "output_type": "display_data",
          "data": {
            "text/html": [
              "'The average of 1 2 3 and 4 is 2.5'"
            ],
            "text/markdown": "'The average of 1 2 3 and 4 is 2.5'",
            "text/latex": "'The average of 1 2 3 and 4 is 2.5'",
            "text/plain": [
              "[1] \"The average of 1 2 3 and 4 is 2.5\""
            ]
          },
          "metadata": {}
        },
        {
          "output_type": "display_data",
          "data": {
            "text/html": [
              "'The average of 7 35 42 and 8 is 23'"
            ],
            "text/markdown": "'The average of 7 35 42 and 8 is 23'",
            "text/latex": "'The average of 7 35 42 and 8 is 23'",
            "text/plain": [
              "[1] \"The average of 7 35 42 and 8 is 23\""
            ]
          },
          "metadata": {}
        }
      ]
    },
    {
      "cell_type": "markdown",
      "source": [
        "## 2. Plot Data (4 pts)"
      ],
      "metadata": {
        "id": "F6Rx0GIGrpOB"
      }
    },
    {
      "cell_type": "markdown",
      "source": [
        "In the cell below, write the code required to plot from the `msleep` sample data set.\n",
        "\n",
        "1. Display only animals with body weights of 30 or greater.\n",
        "2. Group the animals by `order`.\n",
        "3. Display the mean `sleep_total` for each group in a bar plot."
      ],
      "metadata": {
        "id": "IDLyOjOJsFCX"
      }
    },
    {
      "cell_type": "code",
      "source": [
        "library(ggplot2)\n",
        "data(msleep, package = \"ggplot2\")\n",
        "#msleep\n",
        "filtered_data <- msleep[msleep$bodywt >= 30, ]\n",
        "grouped_data <- aggregate(sleep_total ~ order, data = filtered_data, mean)\n",
        "\n",
        "ggplot(grouped_data, aes(x = order, y = sleep_total)) +\n",
        "  geom_bar(stat = \"identity\", fill = \"blue\") +\n",
        "  labs(title = \"Sleep Total for Animals with Body Weight >= 30\",\n",
        "       x = \"Order\",\n",
        "       y = \"Sleep Total\") +\n",
        "  theme_minimal()"
      ],
      "metadata": {
        "id": "0D5Ia-BPsoPZ",
        "outputId": "61d9ef82-e891-4cb6-ba38-2c3f12b965e2",
        "colab": {
          "base_uri": "https://localhost:8080/",
          "height": 437
        }
      },
      "execution_count": 19,
      "outputs": [
        {
          "output_type": "display_data",
          "data": {
            "text/plain": [
              "plot without title"
            ],
            "image/png": "[encoded data removed]"
          },
          "metadata": {
            "image/png": {
              "width": 420,
              "height": 420
            }
          }
        }
      ]
    },
    {
      "cell_type": "markdown",
      "source": [
        "## 3. Clean and Analyze Data Using R (4 pts)\n",
        "\n",
        "In the cells below use R to perform the following data cleaning steps on this file:\n",
        "https://raw.githubusercontent.com/nmagee/ds1002/main/data/social-media-users.csv\n",
        "\n",
        "1. Remove any duplicate rows.\n",
        "2. Remove any records where `last_login` or `birthdate` are empty.\n",
        "3. Display only the records with the 10 highest `follower` counts.\n",
        "4. Determine counts of users when grouped by continent."
      ],
      "metadata": {
        "id": "-2ZaFcCCv3o8"
      }
    },
    {
      "cell_type": "code",
      "source": [
        "#\n",
        "library(dplyr)\n",
        "library(readr)\n",
        "\n",
        "df <- read_csv(\"https://raw.githubusercontent.com/nmagee/ds1002/main/data/social-media-users.csv\")\n",
        "\n",
        "cleandf <- df %>%\n",
        "  distinct()\n",
        "\n",
        "print(cleandf)"
      ],
      "metadata": {
        "id": "V4nBsdVsyauQ",
        "outputId": "7ef2d680-cfb2-4dfd-9b04-11c0eca17e82",
        "colab": {
          "base_uri": "https://localhost:8080/"
        }
      },
      "execution_count": 43,
      "outputs": [
        {
          "output_type": "stream",
          "name": "stderr",
          "text": [
            "\u001b[1mRows: \u001b[22m\u001b[34m1318\u001b[39m \u001b[1mColumns: \u001b[22m\u001b[34m8\u001b[39m\n",
            "\u001b[36m──\u001b[39m \u001b[1mColumn specification\u001b[22m \u001b[36m────────────────────────────────────────────────────────\u001b[39m\n",
            "\u001b[1mDelimiter:\u001b[22m \",\"\n",
            "\u001b[31mchr\u001b[39m (7): username, full_name, birthdate, email, continent, last_login, inter...\n",
            "\u001b[32mdbl\u001b[39m (1): followers\n",
            "\n",
            "\u001b[36mℹ\u001b[39m Use `spec()` to retrieve the full column specification for this data.\n",
            "\u001b[36mℹ\u001b[39m Specify the column types or set `show_col_types = FALSE` to quiet this message.\n"
          ]
        },
        {
          "output_type": "stream",
          "name": "stdout",
          "text": [
            "\u001b[90m# A tibble: 1,000 × 8\u001b[39m\n",
            "   username   full_name birthdate email continent followers last_login interests\n",
            "   \u001b[3m\u001b[90m<chr>\u001b[39m\u001b[23m      \u001b[3m\u001b[90m<chr>\u001b[39m\u001b[23m     \u001b[3m\u001b[90m<chr>\u001b[39m\u001b[23m     \u001b[3m\u001b[90m<chr>\u001b[39m\u001b[23m \u001b[3m\u001b[90m<chr>\u001b[39m\u001b[23m         \u001b[3m\u001b[90m<dbl>\u001b[39m\u001b[23m \u001b[3m\u001b[90m<chr>\u001b[39m\u001b[23m      \u001b[3m\u001b[90m<chr>\u001b[39m\u001b[23m    \n",
            "\u001b[90m 1\u001b[39m ckippen0   Clevey K… 5/1/1991  ckip… \u001b[31mNA\u001b[39m            \u001b[4m1\u001b[24m\u001b[4m2\u001b[24m362 5/16/2023  music    \n",
            "\u001b[90m 2\u001b[39m tgergler1  Tedi Ger… 10/5/1998 tger… \u001b[31mNA\u001b[39m            \u001b[4m2\u001b[24m\u001b[4m1\u001b[24m360 8/20/2020  sports   \n",
            "\u001b[90m 3\u001b[39m spomfrett2 Steffie … \u001b[31mNA\u001b[39m        spom… \u001b[31mNA\u001b[39m            \u001b[4m1\u001b[24m\u001b[4m9\u001b[24m530 11/19/2022 sports   \n",
            "\u001b[90m 4\u001b[39m rphettis3  Ruddy Ph… 6/18/1984 rphe… EU            \u001b[4m8\u001b[24m\u001b[4m0\u001b[24m047 9/20/2023  travel   \n",
            "\u001b[90m 5\u001b[39m ngilcries… Nico Gil… 10/11/19… ngil… \u001b[31mNA\u001b[39m            \u001b[4m3\u001b[24m\u001b[4m3\u001b[24m544 \u001b[31mNA\u001b[39m         music    \n",
            "\u001b[90m 6\u001b[39m fhampson5  Farrell … 11/7/1985 fham… OC            \u001b[4m7\u001b[24m\u001b[4m2\u001b[24m161 \u001b[31mNA\u001b[39m         sports   \n",
            "\u001b[90m 7\u001b[39m ttotman6   Tamqrah … 8/7/1986  ttot… AF            \u001b[4m4\u001b[24m\u001b[4m2\u001b[24m669 3/10/2023  music    \n",
            "\u001b[90m 8\u001b[39m bdennes7   Bonita D… \u001b[31mNA\u001b[39m        bden… \u001b[31mNA\u001b[39m            \u001b[4m2\u001b[24m\u001b[4m2\u001b[24m516 2/3/2023   sports   \n",
            "\u001b[90m 9\u001b[39m kgrigorye… Krishna … 5/25/1990 kgri… EU            \u001b[4m9\u001b[24m\u001b[4m3\u001b[24m923 1/30/2023  travel   \n",
            "\u001b[90m10\u001b[39m mbathoe9   Mallissa… \u001b[31mNA\u001b[39m        mbat… AS            \u001b[4m1\u001b[24m\u001b[4m8\u001b[24m554 3/5/2022   travel   \n",
            "\u001b[90m# ℹ 990 more rows\u001b[39m\n"
          ]
        }
      ]
    },
    {
      "cell_type": "code",
      "source": [
        "#\n",
        "df2 <- cleandf[complete.cases(cleandf$last_login, cleandf$birthdate), ]\n",
        "\n",
        "print(df2)"
      ],
      "metadata": {
        "id": "LwXD1sNulIT3",
        "outputId": "8a4606b2-6654-4b9c-8cc0-bbc4513b0736",
        "colab": {
          "base_uri": "https://localhost:8080/"
        }
      },
      "execution_count": 42,
      "outputs": [
        {
          "output_type": "stream",
          "name": "stdout",
          "text": [
            "\u001b[90m# A tibble: 650 × 8\u001b[39m\n",
            "   username   full_name birthdate email continent followers last_login interests\n",
            "   \u001b[3m\u001b[90m<chr>\u001b[39m\u001b[23m      \u001b[3m\u001b[90m<chr>\u001b[39m\u001b[23m     \u001b[3m\u001b[90m<chr>\u001b[39m\u001b[23m     \u001b[3m\u001b[90m<chr>\u001b[39m\u001b[23m \u001b[3m\u001b[90m<chr>\u001b[39m\u001b[23m         \u001b[3m\u001b[90m<dbl>\u001b[39m\u001b[23m \u001b[3m\u001b[90m<chr>\u001b[39m\u001b[23m      \u001b[3m\u001b[90m<chr>\u001b[39m\u001b[23m    \n",
            "\u001b[90m 1\u001b[39m ckippen0   Clevey K… 5/1/1991  ckip… \u001b[31mNA\u001b[39m            \u001b[4m1\u001b[24m\u001b[4m2\u001b[24m362 5/16/2023  music    \n",
            "\u001b[90m 2\u001b[39m tgergler1  Tedi Ger… 10/5/1998 tger… \u001b[31mNA\u001b[39m            \u001b[4m2\u001b[24m\u001b[4m1\u001b[24m360 8/20/2020  sports   \n",
            "\u001b[90m 3\u001b[39m rphettis3  Ruddy Ph… 6/18/1984 rphe… EU            \u001b[4m8\u001b[24m\u001b[4m0\u001b[24m047 9/20/2023  travel   \n",
            "\u001b[90m 4\u001b[39m ttotman6   Tamqrah … 8/7/1986  ttot… AF            \u001b[4m4\u001b[24m\u001b[4m2\u001b[24m669 3/10/2023  music    \n",
            "\u001b[90m 5\u001b[39m kgrigorye… Krishna … 5/25/1990 kgri… EU            \u001b[4m9\u001b[24m\u001b[4m3\u001b[24m923 1/30/2023  travel   \n",
            "\u001b[90m 6\u001b[39m mchittockb Myriam C… 1/26/1989 mchi… AF            \u001b[4m4\u001b[24m\u001b[4m6\u001b[24m304 8/29/2023  sports   \n",
            "\u001b[90m 7\u001b[39m aeasbyd    Alessand… 1/5/1991  aeas… AF            \u001b[4m1\u001b[24m\u001b[4m6\u001b[24m786 6/15/2023  sports   \n",
            "\u001b[90m 8\u001b[39m dleishmanf Dyane Le… 2/12/1990 dlei… \u001b[31mNA\u001b[39m            \u001b[4m8\u001b[24m\u001b[4m5\u001b[24m070 6/5/2021   travel   \n",
            "\u001b[90m 9\u001b[39m omarusiki  Otha Mar… 12/4/1992 omar… AF            \u001b[4m9\u001b[24m\u001b[4m3\u001b[24m981 2/4/2022   travel   \n",
            "\u001b[90m10\u001b[39m sspenclayk Scott Sp… 12/7/1989 sspe… AF            \u001b[4m3\u001b[24m\u001b[4m1\u001b[24m745 11/29/2022 sports   \n",
            "\u001b[90m# ℹ 640 more rows\u001b[39m\n"
          ]
        }
      ]
    },
    {
      "cell_type": "code",
      "source": [
        "#\n",
        "newdf <- df2 %>%\n",
        "  arrange(desc(followers)) %>%\n",
        "  head(10)\n",
        "\n",
        "print(newdf)"
      ],
      "metadata": {
        "id": "7qa100btlI4Z",
        "outputId": "626d2e74-4ba7-4e28-c0ca-bfaf63c53028",
        "colab": {
          "base_uri": "https://localhost:8080/"
        }
      },
      "execution_count": 45,
      "outputs": [
        {
          "output_type": "stream",
          "name": "stdout",
          "text": [
            "\u001b[90m# A tibble: 10 × 8\u001b[39m\n",
            "   username   full_name birthdate email continent followers last_login interests\n",
            "   \u001b[3m\u001b[90m<chr>\u001b[39m\u001b[23m      \u001b[3m\u001b[90m<chr>\u001b[39m\u001b[23m     \u001b[3m\u001b[90m<chr>\u001b[39m\u001b[23m     \u001b[3m\u001b[90m<chr>\u001b[39m\u001b[23m \u001b[3m\u001b[90m<chr>\u001b[39m\u001b[23m         \u001b[3m\u001b[90m<dbl>\u001b[39m\u001b[23m \u001b[3m\u001b[90m<chr>\u001b[39m\u001b[23m      \u001b[3m\u001b[90m<chr>\u001b[39m\u001b[23m    \n",
            "\u001b[90m 1\u001b[39m lleckeyb6  Lynne Le… 4/19/1998 llec… SA            \u001b[4m9\u001b[24m\u001b[4m9\u001b[24m977 3/14/2021  sports   \n",
            "\u001b[90m 2\u001b[39m spharoaha2 Staci Ph… 9/2/1985  spha… \u001b[31mNA\u001b[39m            \u001b[4m9\u001b[24m\u001b[4m9\u001b[24m905 10/26/2023 sports   \n",
            "\u001b[90m 3\u001b[39m cduftondy  Celisse … 8/24/1995 cduf… OC            \u001b[4m9\u001b[24m\u001b[4m9\u001b[24m707 9/26/2021  sports   \n",
            "\u001b[90m 4\u001b[39m dbartalin… Desiree … 8/23/1993 dbar… AF            \u001b[4m9\u001b[24m\u001b[4m9\u001b[24m618 5/30/2022  music    \n",
            "\u001b[90m 5\u001b[39m grivardmp  Gwen Riv… 9/12/1982 griv… OC            \u001b[4m9\u001b[24m\u001b[4m9\u001b[24m526 4/4/2020   music    \n",
            "\u001b[90m 6\u001b[39m mraggitt9g Morgan R… 11/16/19… mrag… \u001b[31mNA\u001b[39m            \u001b[4m9\u001b[24m\u001b[4m9\u001b[24m508 11/12/2021 music    \n",
            "\u001b[90m 7\u001b[39m wbenese7   Wain Ben… 3/9/1998  wben… \u001b[31mNA\u001b[39m            \u001b[4m9\u001b[24m\u001b[4m9\u001b[24m400 10/1/2021  travel   \n",
            "\u001b[90m 8\u001b[39m kmorriceht Kitti Mo… 6/3/1995  kmor… SA            \u001b[4m9\u001b[24m\u001b[4m8\u001b[24m936 3/24/2021  sports   \n",
            "\u001b[90m 9\u001b[39m smacdonne… Shoshann… 9/12/2002 smac… AS            \u001b[4m9\u001b[24m\u001b[4m8\u001b[24m760 7/20/2021  music    \n",
            "\u001b[90m10\u001b[39m dcossum34  Dwain Co… 9/9/1990  dcos… \u001b[31mNA\u001b[39m            \u001b[4m9\u001b[24m\u001b[4m8\u001b[24m743 6/7/2021   sports   \n"
          ]
        }
      ]
    },
    {
      "cell_type": "code",
      "source": [
        "#\n",
        "df3 <- newdf %>%\n",
        "  group_by(continent) %>%\n",
        "  summarise(user_count = n())\n",
        "\n",
        "print(df3)"
      ],
      "metadata": {
        "id": "MjrZisnxlJUa",
        "outputId": "87c9d4d2-1b95-47c1-8deb-38a7dd99fb2f",
        "colab": {
          "base_uri": "https://localhost:8080/"
        }
      },
      "execution_count": 47,
      "outputs": [
        {
          "output_type": "stream",
          "name": "stdout",
          "text": [
            "\u001b[90m# A tibble: 5 × 2\u001b[39m\n",
            "  continent user_count\n",
            "  \u001b[3m\u001b[90m<chr>\u001b[39m\u001b[23m          \u001b[3m\u001b[90m<int>\u001b[39m\u001b[23m\n",
            "\u001b[90m1\u001b[39m AF                 1\n",
            "\u001b[90m2\u001b[39m AS                 1\n",
            "\u001b[90m3\u001b[39m OC                 2\n",
            "\u001b[90m4\u001b[39m SA                 2\n",
            "\u001b[90m5\u001b[39m \u001b[31mNA\u001b[39m                 4\n"
          ]
        }
      ]
    }
  ]
}