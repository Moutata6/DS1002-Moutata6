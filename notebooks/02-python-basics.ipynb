{
  "cells": [
    {
      "cell_type": "markdown",
      "metadata": {
        "id": "view-in-github",
        "colab_type": "text"
      },
      "source": [
        "<a href=\"https://colab.research.google.com/github/Moutata6/DS1002-Moutata6/blob/main/notebooks/02-python-basics.ipynb\" target=\"_parent\"><img src=\"https://colab.research.google.com/assets/colab-badge.svg\" alt=\"Open In Colab\"/></a>"
      ]
    },
    {
      "cell_type": "markdown",
      "id": "7f2a553a",
      "metadata": {
        "id": "7f2a553a"
      },
      "source": [
        "# Metadata\n",
        "\n",
        "```\n",
        "Course:      DS 1002\n",
        "Week:        Python Basics\n",
        "Topic:       Python Variables, Indices, and Arguments\n",
        "```"
      ]
    },
    {
      "cell_type": "markdown",
      "id": "420867eb",
      "metadata": {
        "id": "420867eb"
      },
      "source": [
        "# Variables"
      ]
    },
    {
      "cell_type": "markdown",
      "id": "19101330",
      "metadata": {
        "id": "19101330"
      },
      "source": [
        "Variables allow a developer to create a name that refers to a value.  This allows the developer to refer to the value by name instead of by the value itself. Variables should be thought of as key-value pairs, keeping in mind that the \"value\" half can sometimes be quite complex.\n",
        "\n",
        "A variable can have a short name (like x and y) or a more descriptive name (age, subject_id, total_volume).\n",
        "\n",
        "Rules for Python variables:\n",
        "\n",
        "* A variable name must start with a letter or the underscore character\n",
        "* A variable name cannot start with a number\n",
        "* A variable name can only contain alpha-numeric characters and underscores (A-z, 0-9, and _ )\n",
        "* Variable names are case-sensitive (age, Age and AGE are three different variables)"
      ]
    },
    {
      "cell_type": "code",
      "execution_count": 1,
      "id": "d4bb46d9",
      "metadata": {
        "id": "d4bb46d9"
      },
      "outputs": [],
      "source": [
        "# a simple key-value pair, a variable and its value:\n",
        "\n",
        "favorite_number = 11"
      ]
    },
    {
      "cell_type": "markdown",
      "id": "31315126",
      "metadata": {
        "id": "31315126"
      },
      "source": [
        "Define and populate a variable of your own below:"
      ]
    },
    {
      "cell_type": "code",
      "execution_count": 3,
      "id": "871bad4d",
      "metadata": {
        "colab": {
          "base_uri": "https://localhost:8080/"
        },
        "id": "871bad4d",
        "outputId": "93fd5256-52db-4590-f4b6-629bde583f1b"
      },
      "outputs": [
        {
          "output_type": "stream",
          "name": "stdout",
          "text": [
            "ameer\n"
          ]
        }
      ],
      "source": [
        "name = \"ameer\"\n",
        "print(name)"
      ]
    },
    {
      "cell_type": "markdown",
      "id": "f148727a",
      "metadata": {
        "id": "f148727a"
      },
      "source": [
        "**More Complex Variables**\n",
        "\n",
        "A variable can be populated with all sorts of data types: Integers, Booleans, Strings, Lists, Tuples, Dictionaries, etc."
      ]
    },
    {
      "cell_type": "code",
      "execution_count": 6,
      "id": "0cb6b853",
      "metadata": {
        "id": "0cb6b853"
      },
      "outputs": [],
      "source": [
        "soccer_players = [\"Messi\", \"Neymar\", \"Saurez\"]"
      ]
    },
    {
      "cell_type": "code",
      "execution_count": 7,
      "id": "ef3589b0",
      "metadata": {
        "colab": {
          "base_uri": "https://localhost:8080/"
        },
        "id": "ef3589b0",
        "outputId": "eebddfeb-95b4-445b-a635-0313f8be94ed"
      },
      "outputs": [
        {
          "output_type": "stream",
          "name": "stdout",
          "text": [
            "['Messi', 'Neymar', 'Saurez']\n"
          ]
        }
      ],
      "source": [
        "print(soccer_players)"
      ]
    },
    {
      "cell_type": "markdown",
      "id": "0bd2b5a7",
      "metadata": {
        "id": "0bd2b5a7"
      },
      "source": [
        "# Indexing"
      ]
    },
    {
      "cell_type": "markdown",
      "id": "3ce8b253",
      "metadata": {
        "id": "3ce8b253"
      },
      "source": [
        "An index is a way of getting or calling the position of a value within a data structure.  For example, if we have a list of 5 values, we can use the index to call the value at position 3.  In Python, the first index is 0, so the value at position 3 would be called with index 2."
      ]
    },
    {
      "cell_type": "code",
      "execution_count": 8,
      "id": "c2435321",
      "metadata": {
        "colab": {
          "base_uri": "https://localhost:8080/",
          "height": 35
        },
        "id": "c2435321",
        "outputId": "45098a9e-4208-4e33-aaa5-6160cb6be467"
      },
      "outputs": [
        {
          "output_type": "execute_result",
          "data": {
            "text/plain": [
              "'banana'"
            ],
            "application/vnd.google.colaboratory.intrinsic+json": {
              "type": "string"
            }
          },
          "metadata": {},
          "execution_count": 8
        }
      ],
      "source": [
        "# print the first element of the fruit list\n",
        "\n",
        "fruit[0]"
      ]
    },
    {
      "cell_type": "code",
      "execution_count": 13,
      "id": "0733f33b",
      "metadata": {
        "colab": {
          "base_uri": "https://localhost:8080/"
        },
        "id": "0733f33b",
        "outputId": "61c01e39-2ad8-43a4-81cb-79ca39a99163"
      },
      "outputs": [
        {
          "output_type": "stream",
          "name": "stdout",
          "text": [
            "1\n"
          ]
        }
      ],
      "source": [
        "# Or we can find out the index of a specific value we know in the list\n",
        "\n",
        "Neymar_index = soccer_players.index(\"Neymar\")\n",
        "print(Neymar_index)"
      ]
    },
    {
      "cell_type": "markdown",
      "id": "2f7ae123",
      "metadata": {
        "id": "2f7ae123"
      },
      "source": [
        "# Arguments"
      ]
    },
    {
      "cell_type": "markdown",
      "id": "92a9caa8",
      "metadata": {
        "id": "92a9caa8"
      },
      "source": [
        "Arguments are ways of passing specific values to a function. For example, if we have a function that takes two arguments, we might pass them in by way of two variables.\n",
        "\n",
        "Below is a simple function that ADDS any two values passed to it as arguments. It adds those values as part of a new variable, which it then prints out:"
      ]
    },
    {
      "cell_type": "code",
      "execution_count": null,
      "id": "fe148025",
      "metadata": {
        "id": "fe148025"
      },
      "outputs": [],
      "source": [
        "def add_us(firstval, secondval):\n",
        "    total = firstval + secondval\n",
        "    print(total)"
      ]
    },
    {
      "cell_type": "code",
      "execution_count": null,
      "id": "62a4d6d9",
      "metadata": {
        "id": "62a4d6d9"
      },
      "outputs": [],
      "source": [
        "firstval = 5\n",
        "secondval = 13\n",
        "\n",
        "add_us(firstval, secondval)"
      ]
    },
    {
      "cell_type": "markdown",
      "id": "7ccacba6",
      "metadata": {
        "id": "7ccacba6"
      },
      "source": [
        "Now you try populating the variables with your own values and see what happens:"
      ]
    },
    {
      "cell_type": "code",
      "execution_count": null,
      "id": "ed9cb356",
      "metadata": {
        "id": "ed9cb356"
      },
      "outputs": [],
      "source": [
        "firstval =\n",
        "secondval =\n",
        "\n",
        "add_us(firstval, secondval)"
      ]
    }
  ],
  "metadata": {
    "kernelspec": {
      "display_name": "base",
      "language": "python",
      "name": "python3"
    },
    "language_info": {
      "codemirror_mode": {
        "name": "ipython",
        "version": 3
      },
      "file_extension": ".py",
      "mimetype": "text/x-python",
      "name": "python",
      "nbconvert_exporter": "python",
      "pygments_lexer": "ipython3",
      "version": "3.9.6"
    },
    "vscode": {
      "interpreter": {
        "hash": "256476f871f41dd9f410a4535ba940f788da543573a25285757e797fedf9c871"
      }
    },
    "colab": {
      "provenance": [],
      "include_colab_link": true
    }
  },
  "nbformat": 4,
  "nbformat_minor": 5
}